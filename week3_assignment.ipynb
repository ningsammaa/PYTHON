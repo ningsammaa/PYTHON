{
  "nbformat": 4,
  "nbformat_minor": 0,
  "metadata": {
    "colab": {
      "provenance": []
    },
    "kernelspec": {
      "name": "python3",
      "display_name": "Python 3"
    },
    "language_info": {
      "name": "python"
    }
  },
  "cells": [
    {
      "cell_type": "markdown",
      "source": [
        "**Question 1**"
      ],
      "metadata": {
        "id": "v82QfyqweybT"
      }
    },
    {
      "cell_type": "markdown",
      "source": [
        "Write a function count_vowels(text) that takes a string as input and returns the number of vowels (a, e, i, o, u) in the string. The function should be case insensitive (i.e., treat uppercase and lowercase letters the same).\n"
      ],
      "metadata": {
        "id": "13e6eHiNe1Su"
      }
    },
    {
      "cell_type": "code",
      "execution_count": 13,
      "metadata": {
        "colab": {
          "base_uri": "https://localhost:8080/"
        },
        "id": "YcWw7n2Mcww_",
        "outputId": "7cab6dda-4cd1-410a-ce53-7647086de6ea"
      },
      "outputs": [
        {
          "output_type": "stream",
          "name": "stdout",
          "text": [
            "Enter a string:Hello World\n",
            "Number of vowels in string is: 3\n"
          ]
        }
      ],
      "source": [
        "def count_vowels(text):\n",
        "  vowels = \"aeiou\"\n",
        "  text = text.lower()\n",
        "  count = 0\n",
        "  for char in text:\n",
        "    if char in vowels:\n",
        "      count +=1\n",
        "  return count\n",
        "\n",
        "user_input = str(input(\"Enter a string:\"))\n",
        "result = count_vowels(user_input)\n",
        "print(f\"Number of vowels in string is: {result}\")"
      ]
    },
    {
      "cell_type": "markdown",
      "source": [
        "**Question 2**"
      ],
      "metadata": {
        "id": "c7DaShypKis5"
      }
    },
    {
      "cell_type": "markdown",
      "source": [
        "Write a function find_maximum(list1) that takes a list of numbers as input and returns the maximum number from the list. (Do not use the built-in max() function).\n"
      ],
      "metadata": {
        "id": "Os9o5mfuKmKC"
      }
    },
    {
      "cell_type": "code",
      "source": [
        "def find_maximum(list1):\n",
        "  if not list1:\n",
        "    return None\n",
        "  max_num =list1[0]\n",
        "  for num in list1[1:]:\n",
        "    if num > max_num:\n",
        "      max_num = num\n",
        "  return max_num\n",
        "\n",
        "numbers = list(map(int, input(\"Enter numbers seperated by spaces: \").split()))\n",
        "max_value = find_maximum(numbers)\n",
        "if max_value is not None:\n",
        "  print(f\"Maximum number: {max_value}\")\n",
        "else:\n",
        "  print(\"The list is empty.\")"
      ],
      "metadata": {
        "colab": {
          "base_uri": "https://localhost:8080/"
        },
        "id": "VnAgUCIhKl1-",
        "outputId": "b2e8d49c-2f44-4e89-8fe1-abc61a495fe2"
      },
      "execution_count": 20,
      "outputs": [
        {
          "output_type": "stream",
          "name": "stdout",
          "text": [
            "Enter numbers seperated by spaces: 10 25 5 80 30\n",
            "Maximum number: 80\n"
          ]
        }
      ]
    },
    {
      "cell_type": "markdown",
      "source": [],
      "metadata": {
        "id": "lMAopYjXKlgt"
      }
    },
    {
      "cell_type": "markdown",
      "source": [
        "**Question 3**"
      ],
      "metadata": {
        "id": "_4Z-axmUVFAJ"
      }
    },
    {
      "cell_type": "markdown",
      "source": [
        "Write a function multiplication_table(n) that takes a number n as input and prints the multiplication table of n from 1 to 10.\n"
      ],
      "metadata": {
        "id": "S_e6BONDVHJQ"
      }
    },
    {
      "cell_type": "code",
      "source": [
        "def multiplication_table(n):\n",
        "  for i in range(1, 11):\n",
        "    print(f\"{n} * {i} = {n * i}\")\n",
        "num = int(input(\"Enter a number: \"))\n",
        "multiplication_table(num)"
      ],
      "metadata": {
        "id": "UUke_fQ4FBZy",
        "colab": {
          "base_uri": "https://localhost:8080/"
        },
        "outputId": "b3fb65e3-4696-4fd7-dcb8-5d9c2afefb8e"
      },
      "execution_count": 21,
      "outputs": [
        {
          "output_type": "stream",
          "name": "stdout",
          "text": [
            "Enter a number: 5\n",
            "5 * 1 = 5\n",
            "5 * 2 = 10\n",
            "5 * 3 = 15\n",
            "5 * 4 = 20\n",
            "5 * 5 = 25\n",
            "5 * 6 = 30\n",
            "5 * 7 = 35\n",
            "5 * 8 = 40\n",
            "5 * 9 = 45\n",
            "5 * 10 = 50\n"
          ]
        }
      ]
    },
    {
      "cell_type": "markdown",
      "source": [
        "**Question 4**"
      ],
      "metadata": {
        "id": "Xal4sHj3VQYP"
      }
    },
    {
      "cell_type": "markdown",
      "source": [
        "Write a function largest_word(sentence) that takes a sentence as input and returns the longest word in the sentence. If there are multiple words of the same length, return the first one that appears."
      ],
      "metadata": {
        "id": "bkHAR1xallYd"
      }
    },
    {
      "cell_type": "code",
      "source": [
        "def largest_word(sentence):\n",
        "    words = sentence.split()\n",
        "    longest_word = \"\"\n",
        "    max_length = 0\n",
        "    for word in words:\n",
        "        if len(word) > max_length:\n",
        "            longest_word = word\n",
        "            max_length = len(word)\n",
        "    return longest_word\n",
        "\n",
        "sentence_1 = input(\"Enter a sentence: \")\n",
        "print(f\"The longest word is: {largest_word(sentence_1)}\")\n"
      ],
      "metadata": {
        "colab": {
          "base_uri": "https://localhost:8080/"
        },
        "id": "YtNWnWJblq8I",
        "outputId": "dbb9d392-d864-4f24-c7d9-d45826003784"
      },
      "execution_count": 28,
      "outputs": [
        {
          "output_type": "stream",
          "name": "stdout",
          "text": [
            "Enter a sentence: Python programming is awesome\n",
            "The longest word is: programming\n"
          ]
        }
      ]
    },
    {
      "cell_type": "markdown",
      "source": [
        "**Question 5**"
      ],
      "metadata": {
        "id": "CaVYvym0VSV5"
      }
    },
    {
      "cell_type": "markdown",
      "source": [
        "Write a function sum_of_list(numbers) that takes a list of numbers as input and returns the sum of all elements in the list."
      ],
      "metadata": {
        "id": "Z0ZeIlTCl8n1"
      }
    },
    {
      "cell_type": "code",
      "source": [
        "def sum_of_list(numbers):\n",
        "  total = 0\n",
        "  for number in numbers:\n",
        "    total += number\n",
        "  return total\n",
        "result = sum_of_list([1, 2, 3, 4, 5])\n",
        "print(result)\n",
        "\n"
      ],
      "metadata": {
        "colab": {
          "base_uri": "https://localhost:8080/"
        },
        "id": "VyuW3aqpl-ks",
        "outputId": "2448ae75-b9a8-4d1f-ea3e-284e2434c7d9"
      },
      "execution_count": 30,
      "outputs": [
        {
          "output_type": "stream",
          "name": "stdout",
          "text": [
            "15\n"
          ]
        }
      ]
    },
    {
      "cell_type": "markdown",
      "source": [
        "**Question 6**"
      ],
      "metadata": {
        "id": "J_Fvj-IUVUGh"
      }
    },
    {
      "cell_type": "markdown",
      "source": [
        "Write a function to_title_case(sentence) that takes a sentence as input and returns the sentence in title case, where the first letter of each word is capitalized"
      ],
      "metadata": {
        "id": "p73KNYXil_OF"
      }
    },
    {
      "cell_type": "code",
      "source": [
        "def to_title_case(sentence):\n",
        "  words = sentence.split()\n",
        "  title_case_words = [word.capitalize() for word in words]\n",
        "  title_case_sentence = \" \".join(title_case_words)\n",
        "  return title_case_sentence\n",
        "sentence = str(input(\"Enter a sentence: \"))\n",
        "print(f\"Title Case: {to_title_case(sentence)}\")\n"
      ],
      "metadata": {
        "colab": {
          "base_uri": "https://localhost:8080/"
        },
        "id": "mSodrEh_Dczy",
        "outputId": "ac38a172-4505-4a3b-e6fb-b252d5250bcc"
      },
      "execution_count": 12,
      "outputs": [
        {
          "output_type": "stream",
          "name": "stdout",
          "text": [
            "Enter a sentence: hello world from python\n",
            "Title Case: Hello World From Python\n"
          ]
        }
      ]
    },
    {
      "cell_type": "markdown",
      "source": [
        "**Question 7**"
      ],
      "metadata": {
        "id": "yzcyyrIfVVp4"
      }
    },
    {
      "cell_type": "markdown",
      "source": [
        "Write a function is_palindrome(word) that takes a string as input and returns True if the word is a palindrome (reads the same forward and backward), otherwise returns False."
      ],
      "metadata": {
        "id": "ZE3Ds_Sgd5EH"
      }
    },
    {
      "cell_type": "code",
      "source": [
        "def is_palindrome(word):\n",
        "  word = word.lower()\n",
        "  return word == word[::-1]\n",
        "word = input(\"Enter a word: \")\n",
        "print(f\"Palindrome: {is_palindrome(word)}\")"
      ],
      "metadata": {
        "colab": {
          "base_uri": "https://localhost:8080/"
        },
        "id": "-GFNT9Bjd5_J",
        "outputId": "873343bb-c858-4223-acc0-379e004d9897"
      },
      "execution_count": 14,
      "outputs": [
        {
          "output_type": "stream",
          "name": "stdout",
          "text": [
            "Enter a word: madam\n",
            "Palindrome: True\n"
          ]
        }
      ]
    },
    {
      "cell_type": "markdown",
      "source": [
        "**Question 8**"
      ],
      "metadata": {
        "id": "cGFcd9S-VXW_"
      }
    },
    {
      "cell_type": "markdown",
      "source": [
        "Write a function char_count(s) that takes a string as input and returns a dictionary where keys are the characters and values are their frequencies in the string.\n"
      ],
      "metadata": {
        "id": "TSx4-rSjfZni"
      }
    },
    {
      "cell_type": "code",
      "source": [
        "def char_count(s):\n",
        "  char_freq = {}\n",
        "  for char in s:\n",
        "    char_freq[char] = char_freq.get(char, 0) + 1\n",
        "  return char_freq\n",
        "\n",
        "s = str(input(\"Enter a string: \"))\n",
        "print(f\"Character frequencies: {char_count(s)}\")"
      ],
      "metadata": {
        "colab": {
          "base_uri": "https://localhost:8080/"
        },
        "id": "N5fSnIe2okeJ",
        "outputId": "34f7898e-a5e4-4ee1-b563-961a06966ecd"
      },
      "execution_count": 15,
      "outputs": [
        {
          "output_type": "stream",
          "name": "stdout",
          "text": [
            "Enter a string: hello\n",
            "Character frequencies: {'h': 1, 'e': 1, 'l': 2, 'o': 1}\n"
          ]
        }
      ]
    }
  ]
}