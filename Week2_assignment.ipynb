{
  "nbformat": 4,
  "nbformat_minor": 0,
  "metadata": {
    "colab": {
      "provenance": []
    },
    "kernelspec": {
      "name": "python3",
      "display_name": "Python 3"
    },
    "language_info": {
      "name": "python"
    }
  },
  "cells": [
    {
      "cell_type": "markdown",
      "source": [
        "# **Question 1**"
      ],
      "metadata": {
        "id": "mu61Yf_IKlbQ"
      }
    },
    {
      "cell_type": "markdown",
      "source": [
        "Write a Python program that takes a list of numbers and:\n",
        "Print the numbers in the list but skip numbers that are divisible by 5.\n",
        "Stops the loop if a number greater than 50 is encountered.\n"
      ],
      "metadata": {
        "id": "FKgSkgyOLL5Y"
      }
    },
    {
      "cell_type": "code",
      "execution_count": 1,
      "metadata": {
        "colab": {
          "base_uri": "https://localhost:8080/"
        },
        "id": "wYA2iUzyKLkS",
        "outputId": "af468907-2126-48d0-8302-e15a2131fa52"
      },
      "outputs": [
        {
          "output_type": "stream",
          "name": "stdout",
          "text": [
            "4\n",
            "12\n",
            "22\n",
            "37\n",
            "48\n"
          ]
        }
      ],
      "source": [
        "numbers_list = [4, 12, 15, 22, 37, 45, 48, 51, 55, 63]\n",
        "\n",
        "for num in numbers_list:\n",
        "    if num > 50:\n",
        "        break\n",
        "    if num % 5 == 0:\n",
        "        continue\n",
        "    print(num)"
      ]
    },
    {
      "cell_type": "markdown",
      "source": [
        "# **Question 2**"
      ],
      "metadata": {
        "id": "l4K532MLKtkn"
      }
    },
    {
      "cell_type": "markdown",
      "source": [
        "Write a Python program that takes a password as input and checks its strength based on the following conditions:\n",
        "Weak: If the password is less than 6 characters or only contains letters.\n",
        "Moderate: If the password has at least 6 characters and contains both letters and numbers.\n",
        "Strong: If the password has at least 8 characters, contains letters, numbers, and special characters (@, #, $, %, &).\n"
      ],
      "metadata": {
        "id": "d0Zd6vt0N3ef"
      }
    },
    {
      "cell_type": "code",
      "source": [
        "password = input(\"Enter the password: \")\n",
        "if len(password) < 6 or password.isalpha():\n",
        "  print(\"The password is weak.\")\n",
        "elif len(password) >= 6 and password.isalnum():\n",
        "  print(\"The password is moderate.\")\n",
        "elif len(password) >=8 and not password.isalnum():\n",
        "  print(\"The password is strong.\")\n"
      ],
      "metadata": {
        "colab": {
          "base_uri": "https://localhost:8080/"
        },
        "id": "KHx3UPKTaTEl",
        "outputId": "d3475a9b-e8c2-4de9-bc16-4a17e6b78e9f"
      },
      "execution_count": 27,
      "outputs": [
        {
          "output_type": "stream",
          "name": "stdout",
          "text": [
            "Enter the password: nambilimbu123$\n",
            "The password is strong.\n"
          ]
        }
      ]
    },
    {
      "cell_type": "markdown",
      "source": [
        "# **Question 3**"
      ],
      "metadata": {
        "id": "7fwKbJ4UKwCo"
      }
    },
    {
      "cell_type": "code",
      "source": [
        "string = input(\"Enter a sentence: \")\n",
        "words = string.split()\n",
        "for i in range(1, len(words), 2):\n",
        "    words[i] = words[i][::-1]\n",
        "\n",
        "print(' '.join(words))"
      ],
      "metadata": {
        "colab": {
          "base_uri": "https://localhost:8080/"
        },
        "id": "LTk6H8YAK0qA",
        "outputId": "cfecc8d7-b8fb-42f9-d1d1-137c3ab24472"
      },
      "execution_count": 2,
      "outputs": [
        {
          "output_type": "stream",
          "name": "stdout",
          "text": [
            "Enter a sentence: Python is an amazing programming language\n",
            "Python si an gnizama programming egaugnal\n"
          ]
        }
      ]
    },
    {
      "cell_type": "markdown",
      "source": [
        "# **Question 4**"
      ],
      "metadata": {
        "id": "INT3QEK9K-DR"
      }
    },
    {
      "cell_type": "markdown",
      "source": [
        "Write a Python program that takes a list of words and finds all words that appear more than once, storing them in a dictionary with their frequency count.\n"
      ],
      "metadata": {
        "id": "G1g0o6WKOZ18"
      }
    },
    {
      "cell_type": "code",
      "source": [
        "words_input = input(\"Enter a lsit of words: \")\n",
        "words = words_input.split()\n",
        "word_count = {}\n",
        "for word in words:\n",
        "  if word in word_count:\n",
        "    word_count[word] += 1\n",
        "  else:\n",
        "    word_count[word] = 1\n",
        "print(word_count)"
      ],
      "metadata": {
        "colab": {
          "base_uri": "https://localhost:8080/"
        },
        "id": "Wa2es9-nK_4w",
        "outputId": "e844704d-7e9a-4091-c7cf-f7fd6c0b89ff"
      },
      "execution_count": 8,
      "outputs": [
        {
          "output_type": "stream",
          "name": "stdout",
          "text": [
            "Enter a lsit of words: \"apple\", \"banana\", \"apple\", \"orange\", \"banana\", \"banana\"\n",
            "{'\"apple\",': 2, '\"banana\",': 2, '\"orange\",': 1, '\"banana\"': 1}\n"
          ]
        }
      ]
    },
    {
      "cell_type": "markdown",
      "source": [
        "# **Question 5**"
      ],
      "metadata": {
        "id": "xTNihUoOSHps"
      }
    },
    {
      "cell_type": "markdown",
      "source": [
        "Create a dictionary called books where the keys are book titles (strings) and the values are the number of copies available for each book (integers)."
      ],
      "metadata": {
        "id": "XztpyTmpSKVk"
      }
    },
    {
      "cell_type": "code",
      "source": [
        "books = {\n",
        "     \"Maybe in Another Life\": 5,\n",
        "     \"Carrie Soto is Back\": 6,\n",
        "     \"The Wildflower\": 10,\n",
        "    \"Million Kisses in Your Life\": 12,\n",
        "   \"Deviant King\": 2\n",
        "}\n",
        "book_title = str(input(\"Enter the title of the book: \"))\n",
        "if book_title in books:\n",
        "  user_copies = input(\"Enter the number of copies you would want to buy: \")\n",
        "  if user_copies.isdigit():\n",
        "    user_copies = int(user_copies)\n",
        "\n",
        "    if user_copies <= books[book_title]:\n",
        "      if user_copies == books[book_title]:\n",
        "        print(\"Available\")\n",
        "      else:\n",
        "        print(\"Partially Available\")\n",
        "    else:\n",
        "      print(\"Unavailable\")\n",
        "  else:\n",
        "    print(\"Invalid input. Please enter a valid number of copies.\")\n",
        "else:\n",
        "  print(\"Book not found in the dictionary.\")\n"
      ],
      "metadata": {
        "colab": {
          "base_uri": "https://localhost:8080/"
        },
        "id": "HOSbz_gnSOMN",
        "outputId": "7f759fad-8a37-4417-9b04-7e31200a3e44"
      },
      "execution_count": 16,
      "outputs": [
        {
          "output_type": "stream",
          "name": "stdout",
          "text": [
            "Enter the title of the book: The Wildflower\n",
            "Enter the number of copies you would want to buy: 3\n",
            "Partially Available\n"
          ]
        }
      ]
    },
    {
      "cell_type": "markdown",
      "source": [
        "# **Question 6**"
      ],
      "metadata": {
        "id": "E_dsl31BLHzQ"
      }
    },
    {
      "cell_type": "markdown",
      "source": [
        "Write a program in python which takes a list of words as input and store the frequency of each word in dictionary  \n",
        "\n"
      ],
      "metadata": {
        "id": "MD2rc7rWLUmQ"
      }
    },
    {
      "cell_type": "code",
      "source": [
        "words_list = input(\"Enter a list of words: \").split()\n",
        "word_count = {}\n",
        "\n",
        "for word in words_list:\n",
        "    word = word.lower()\n",
        "    if word in word_count:\n",
        "        word_count[word] += 1\n",
        "    else:\n",
        "        word_count[word] = 1\n",
        "print(word_count)"
      ],
      "metadata": {
        "colab": {
          "base_uri": "https://localhost:8080/"
        },
        "id": "mpjLMUjLLHnY",
        "outputId": "00623a79-b5ba-4fda-8e5a-9566ec8585fd"
      },
      "execution_count": 14,
      "outputs": [
        {
          "output_type": "stream",
          "name": "stdout",
          "text": [
            "Enter a list of words: This is good is\n",
            "{'this': 1, 'is': 2, 'good': 1}\n"
          ]
        }
      ]
    }
  ]
}