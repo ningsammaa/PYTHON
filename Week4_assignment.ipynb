{
  "nbformat": 4,
  "nbformat_minor": 0,
  "metadata": {
    "colab": {
      "provenance": []
    },
    "kernelspec": {
      "name": "python3",
      "display_name": "Python 3"
    },
    "language_info": {
      "name": "python"
    }
  },
  "cells": [
    {
      "cell_type": "markdown",
      "source": [
        "**Classwork 1**"
      ],
      "metadata": {
        "id": "8h-N0p405S9P"
      }
    },
    {
      "cell_type": "code",
      "source": [
        "def sum_of_odd_numbers(numbers_list):\n",
        "  odd_numbers = list(filter(lambda x: x % 2 != 0, numbers_list))\n",
        "  return sum(odd_numbers)\n",
        "numbers = [2, 6, 89, 45, 33, 21, 6, 10, 15, 17]\n",
        "result = sum_of_odd_numbers(numbers)\n",
        "print(f\"Sum of odd numbers: {result}\")"
      ],
      "metadata": {
        "colab": {
          "base_uri": "https://localhost:8080/"
        },
        "id": "Fi9kqCTB5Wsq",
        "outputId": "1fc7e447-9dfc-4b40-8026-b667d1f2af1e"
      },
      "execution_count": null,
      "outputs": [
        {
          "output_type": "stream",
          "name": "stdout",
          "text": [
            "Sum of odd numbers: 220\n"
          ]
        }
      ]
    },
    {
      "cell_type": "markdown",
      "source": [
        "**Classwork 2**"
      ],
      "metadata": {
        "id": "64uEBcm58VfD"
      }
    },
    {
      "cell_type": "code",
      "source": [
        "word_count = 0\n",
        "with open(\"/content/drive/MyDrive/ningsamma.txt\", \"r\") as file:\n",
        "  for line in file:\n",
        "    words = line.split()\n",
        "    word_count += len(words)\n",
        "print(f\"The number of words in the file: {word_count}\")"
      ],
      "metadata": {
        "colab": {
          "base_uri": "https://localhost:8080/"
        },
        "id": "Fk1MH-rO8XpB",
        "outputId": "e9f173b0-a7d9-450e-85fa-2385f9c67774"
      },
      "execution_count": null,
      "outputs": [
        {
          "output_type": "stream",
          "name": "stdout",
          "text": [
            "The number of words in the file: 7\n"
          ]
        }
      ]
    },
    {
      "cell_type": "markdown",
      "source": [
        "**Classwork 3**: Write a Python function read_file(file_path) that takes a file path as an argument and reads the contents of the file. The function should handle the following exceptions: If the file does not exist, print \"File not found.\" If there is a permission error, print \"Permission denied.\" Use a try-except block to handle these exceptions."
      ],
      "metadata": {
        "id": "uydONXN59ULS"
      }
    },
    {
      "cell_type": "code",
      "source": [
        "def read_file(file_path):\n",
        "  try:\n",
        "    with open(file_path, \"r\") as file:\n",
        "      content = file.read()\n",
        "      return content\n",
        "  except FileNotFoundError:\n",
        "    print(\"File Not Found.\")\n",
        "  except PermissionError:\n",
        "    print(\"Permission denied.\")\n",
        "  except Exception as e:\n",
        "    print(f\"An error occurred: {e}\")\n",
        "file_path = \"/content/drive/MyDrive/hhh.txt\"\n",
        "content = read_file(file_path)\n",
        "print(f\"File content: {content}\")"
      ],
      "metadata": {
        "colab": {
          "base_uri": "https://localhost:8080/"
        },
        "id": "S0JoAju09W9q",
        "outputId": "eedfafda-91ec-49e3-c628-3fc1842e0a2c"
      },
      "execution_count": null,
      "outputs": [
        {
          "output_type": "stream",
          "name": "stdout",
          "text": [
            "File content: Hello World \n"
          ]
        }
      ]
    },
    {
      "cell_type": "markdown",
      "source": [
        "**Question 1**"
      ],
      "metadata": {
        "id": "fDTm9Kbf9hcG"
      }
    },
    {
      "cell_type": "markdown",
      "source": [
        "Write a Python function read_file_content(file_path) that takes the path of a text file as input and returns its content as a string.Write another function write_to_file(file_path, content) that takes a file path and a string content as input and writes the content to the file"
      ],
      "metadata": {
        "id": "l5lYXf9pSN-g"
      }
    },
    {
      "cell_type": "code",
      "source": [
        "def read_file_content(file_path):\n",
        "    with open(file_path, \"r\") as file:\n",
        "      content = file.read()\n",
        "    return content\n",
        "\n",
        "def write_to_file(file_path, content):\n",
        "    with open(file_path, 'w') as file:\n",
        "      file.write(content)\n",
        "\n",
        "file_path = \"/content/drive/MyDrive/mountain.txt\"\n",
        "write_to_file(file_path, \"The mountains are calling and I must go.\")\n",
        "content = read_file_content(file_path)\n",
        "print(f\"The content of the file: {content}\")"
      ],
      "metadata": {
        "id": "_eOtc1_1Dsse",
        "colab": {
          "base_uri": "https://localhost:8080/"
        },
        "outputId": "80784881-eab5-4db5-c491-a0a653c6707a"
      },
      "execution_count": 3,
      "outputs": [
        {
          "output_type": "stream",
          "name": "stdout",
          "text": [
            "The content of the file: The mountains are calling and I must go.\n"
          ]
        }
      ]
    },
    {
      "cell_type": "markdown",
      "source": [
        "**Question 2**"
      ],
      "metadata": {
        "id": "o6uDZxPY9lkO"
      }
    },
    {
      "cell_type": "markdown",
      "source": [
        "Write a function find_longest_word(file_path) that reads a text file and returns the longest word in the file."
      ],
      "metadata": {
        "id": "yx_xRZdYVLo4"
      }
    },
    {
      "cell_type": "code",
      "source": [
        "import re\n",
        "def find_longest_word(file_path):\n",
        "    with open(file_path, \"r\") as file:\n",
        "        content = file.read()\n",
        "        print(f\"File content: {content}\")\n",
        "        words = re.findall(r'\\b\\w+\\b', content)\n",
        "        print(f\"Extracted words: {words}\")\n",
        "\n",
        "        if not words:\n",
        "            return \"No words found in the file.\"\n",
        "\n",
        "        longest_word = max(words, key=len)\n",
        "        print(f\"Longest word: {longest_word}\")\n",
        "        return longest_word\n",
        "\n",
        "\n",
        "file_path = \"/content/drive/MyDrive/ningsamma.txt\"\n",
        "longest_word = find_longest_word(file_path)\n",
        "print(f\"The longest word in the file is {longest_word}\")\n"
      ],
      "metadata": {
        "colab": {
          "base_uri": "https://localhost:8080/"
        },
        "id": "wKtzeW1kVLLY",
        "outputId": "3076436a-c6c9-4928-8a5d-13dba8f32179"
      },
      "execution_count": 7,
      "outputs": [
        {
          "output_type": "stream",
          "name": "stdout",
          "text": [
            "File content: Hello this is Ningsamma Thebe from Nakhipot. \n",
            "Extracted words: ['Hello', 'this', 'is', 'Ningsamma', 'Thebe', 'from', 'Nakhipot']\n",
            "Longest word: Ningsamma\n",
            "The longest word in the file is Ningsamma\n"
          ]
        }
      ]
    },
    {
      "cell_type": "markdown",
      "source": [
        "**Question 3**"
      ],
      "metadata": {
        "id": "W8a9RtSx9pC9"
      }
    },
    {
      "cell_type": "markdown",
      "source": [
        "Write a function check_file_empty(file_path) that takes a file path as input and returns True if the file is empty, and False otherwise."
      ],
      "metadata": {
        "id": "nRE6caktjj9e"
      }
    },
    {
      "cell_type": "code",
      "source": [
        "import os\n",
        "def check_file_empty(file_path):\n",
        "  try:\n",
        "    return os.path.getsize(file_path) == 0\n",
        "  except FileNotFoundError:\n",
        "    print(\"File not found.\")\n",
        "    return False\n",
        "  except Exception as e:\n",
        "    print(f\"Error: {e}\")\n",
        "    return False\n",
        "\n",
        "file_path = \"/content/drive/MyDrive/ningsamma.txt\"\n",
        "is_empty = check_file_empty(file_path)\n",
        "print(f\"Is the file empty? {is_empty}\")"
      ],
      "metadata": {
        "colab": {
          "base_uri": "https://localhost:8080/"
        },
        "id": "S71ykcRHjkks",
        "outputId": "56c32801-fe6d-476b-d4a4-4d31bcdb6109"
      },
      "execution_count": 6,
      "outputs": [
        {
          "output_type": "stream",
          "name": "stdout",
          "text": [
            "Is the file empty? False\n"
          ]
        }
      ]
    },
    {
      "cell_type": "markdown",
      "source": [
        "**Question 4**"
      ],
      "metadata": {
        "id": "u5tDWaNL9q4N"
      }
    },
    {
      "cell_type": "markdown",
      "source": [
        "Write a function reverse_file_content(file_path) that reads a text file and writes its content in reverse order to a new file named reversed.txt."
      ],
      "metadata": {
        "id": "pXAHIjaTpjB6"
      }
    },
    {
      "cell_type": "code",
      "source": [
        "def reverse_file_content(file_path):\n",
        "    try:\n",
        "        with open(file_path, \"r\") as file:\n",
        "            content = file.read()\n",
        "            print(f\"Original content: {content}\")\n",
        "        reversed_content = content[::-1]\n",
        "        print(f\"Reversed content: {reversed_content}\")\n",
        "        with open(\"reversed.txt\", \"w\") as reversed_file:\n",
        "            reversed_file.write(reversed_content)\n",
        "        print(\"The content has been reversed and written to 'reversed.txt'.\")\n",
        "    except FileNotFoundError:\n",
        "        print(f\"File '{file_path}' not found.\")\n",
        "    except Exception as e:\n",
        "        print(f\"Error: {e}\")\n",
        "\n",
        "\n",
        "file_path = \"/content/drive/MyDrive/hhh.txt\"\n",
        "reverse_file_content(file_path)"
      ],
      "metadata": {
        "colab": {
          "base_uri": "https://localhost:8080/"
        },
        "id": "WNuFYzc34rM6",
        "outputId": "480ffef5-d424-4ef8-80ef-6851381ea700"
      },
      "execution_count": null,
      "outputs": [
        {
          "output_type": "stream",
          "name": "stdout",
          "text": [
            "Original content: Hello World \n",
            "Reversed content:  dlroW olleH\n",
            "The content has been reversed and written to 'reversed.txt'.\n"
          ]
        }
      ]
    },
    {
      "cell_type": "markdown",
      "source": [
        "**Question 5**"
      ],
      "metadata": {
        "id": "Pd2Q6Tx-9uHN"
      }
    },
    {
      "cell_type": "markdown",
      "source": [
        "Write a Python function convert_to_uppercase that:\n",
        "Accepts a list of strings.\n",
        "Uses a lambda function inside map() to convert all strings in the list to uppercase.\n",
        "Return the list of uppercase strings.\n"
      ],
      "metadata": {
        "id": "U8OZy_CipknZ"
      }
    },
    {
      "cell_type": "code",
      "source": [
        "def convert_to_uppercase():\n",
        "  strings_input = str(input(\"Enter a list of strings: \"))\n",
        "  strings_list = strings_input.split(\",\")\n",
        "  uppercase_strings = list(map(lambda s: s.strip().upper(), strings_list))\n",
        "  return uppercase_strings\n",
        "\n",
        "uppercase_strings = convert_to_uppercase()\n",
        "print(f\"Uppercase strings: {uppercase_strings}\")"
      ],
      "metadata": {
        "colab": {
          "base_uri": "https://localhost:8080/"
        },
        "id": "Q008rxCn6dkt",
        "outputId": "d10d6a0d-e3f4-46a6-f138-6ba03ea0f768"
      },
      "execution_count": null,
      "outputs": [
        {
          "output_type": "stream",
          "name": "stdout",
          "text": [
            "Enter a list of strings: hello, world, python, programming \n",
            "Uppercase strings: ['HELLO', 'WORLD', 'PYTHON', 'PROGRAMMING']\n"
          ]
        }
      ]
    },
    {
      "cell_type": "markdown",
      "source": [
        "**Question 6**"
      ],
      "metadata": {
        "id": "vch0Q9kiMnJq"
      }
    },
    {
      "cell_type": "markdown",
      "source": [
        "Write a Python function filter_even_length_words that:\n",
        "Accepts a list of strings.\n",
        "Uses a lambda function inside the filter() function to return only words that have an even length."
      ],
      "metadata": {
        "id": "t-4gRALzpubZ"
      }
    },
    {
      "cell_type": "code",
      "source": [
        "def filter_even_length_words():\n",
        "  words_input = input(\"Enter a list of words: \")\n",
        "  words_list = words_input.split(\",\")\n",
        "  even_length_words = list(filter(lambda word: len(word.strip()) % 2 == 0, words_list))\n",
        "  return even_length_words\n",
        "\n",
        "even_length_words = filter_even_length_words()\n",
        "print(f\"Words with even length: {even_length_words}\")"
      ],
      "metadata": {
        "colab": {
          "base_uri": "https://localhost:8080/"
        },
        "id": "4FoEBLQE-AAc",
        "outputId": "a5bbeb84-8456-4cd9-aac8-954f625de72d"
      },
      "execution_count": null,
      "outputs": [
        {
          "output_type": "stream",
          "name": "stdout",
          "text": [
            "Enter a list of words: apple, banana, samniba, tree\n",
            "Words with even length: [' banana', ' tree']\n"
          ]
        }
      ]
    },
    {
      "cell_type": "markdown",
      "source": [
        "**Question 7**"
      ],
      "metadata": {
        "id": "AE3OuLUiMogn"
      }
    },
    {
      "cell_type": "markdown",
      "source": [
        "Write a function process_file_with_lambda that:\n",
        "Takes a file name as input.\n",
        "Reads each line from the file and uses a lambda function to convert each word in the line to uppercase.\n",
        "Write the processed lines back to the file.\n"
      ],
      "metadata": {
        "id": "un5f3WQXpxMv"
      }
    },
    {
      "cell_type": "code",
      "source": [
        "def process_file_with_lambda(file_path):\n",
        "    try:\n",
        "        with open(file_path, \"r\") as file:\n",
        "            lines = file.readlines()\n",
        "        processed_lines = [' '.join(map(lambda word: word.upper(), line.split())) for line in lines]\n",
        "        print(\"Processed content: \")\n",
        "        print(processed_lines)\n",
        "        with open(file_path, \"w\") as file:\n",
        "            file.writelines(processed_lines)\n",
        "        print(f\"The file '{file_path}' has been processed and updated.\")\n",
        "\n",
        "    except FileNotFoundError:\n",
        "        print(f\"Error: The file '{file_path}' was not found.\")\n",
        "    except Exception as e:\n",
        "        print(f\"An error has occurred: {e}\")\n",
        "\n",
        "file_path = \"/content/drive/MyDrive/iam.txt\"\n",
        "process_file_with_lambda(file_path)"
      ],
      "metadata": {
        "colab": {
          "base_uri": "https://localhost:8080/"
        },
        "id": "UOmd8gFjj9ag",
        "outputId": "ab324611-bf50-4900-a2a7-bc289c5f5885"
      },
      "execution_count": 39,
      "outputs": [
        {
          "output_type": "stream",
          "name": "stdout",
          "text": [
            "Processed content: \n",
            "['I AM GRATEFUL AND THANKFUL FOR THIS BEAUTIFUL LIFE.']\n",
            "The file '/content/drive/MyDrive/iam.txt' has been processed and updated.\n"
          ]
        }
      ]
    }
  ]
}